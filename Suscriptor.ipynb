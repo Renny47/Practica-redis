{
  "nbformat": 4,
  "nbformat_minor": 0,
  "metadata": {
    "colab": {
      "provenance": [],
      "authorship_tag": "ABX9TyMsCe4Wz0rWjz480mO7ccIW",
      "include_colab_link": true
    },
    "kernelspec": {
      "name": "python3",
      "display_name": "Python 3"
    },
    "language_info": {
      "name": "python"
    }
  },
  "cells": [
    {
      "cell_type": "markdown",
      "metadata": {
        "id": "view-in-github",
        "colab_type": "text"
      },
      "source": [
        "<a href=\"https://colab.research.google.com/github/Renny47/Practica-redis/blob/main/Suscriptor.ipynb\" target=\"_parent\"><img src=\"https://colab.research.google.com/assets/colab-badge.svg\" alt=\"Open In Colab\"/></a>"
      ]
    },
    {
      "cell_type": "code",
      "execution_count": 2,
      "metadata": {
        "colab": {
          "base_uri": "https://localhost:8080/"
        },
        "id": "ZBCzV2C1a0uS",
        "outputId": "8b3105fb-7f85-4e74-93a2-de83dbb213da"
      },
      "outputs": [
        {
          "output_type": "stream",
          "name": "stdout",
          "text": [
            "Esperando mensajes...\n",
            "Recibido: HOLA\n",
            "Recibido: QUE TAL ??\n",
            "\n",
            "Suscripción detenida.\n",
            "Conexión a Redis cerrada.\n"
          ]
        }
      ],
      "source": [
        "#pip install redis\n",
        "\n",
        "import redis\n",
        "\n",
        "# Conexión a Redis\n",
        "r = redis.Redis(\n",
        "    host='redis-14636.c57.us-east-1-4.ec2.redns.redis-cloud.com',\n",
        "    port=14636,\n",
        "    password='qzzvuvV8wjwdHz9tC852AY5t0aAXApqr'\n",
        ")\n",
        "\n",
        "# Suscriptor\n",
        "def subscriber():\n",
        "    pubsub = r.pubsub()\n",
        "    pubsub.subscribe('canal_prueba')\n",
        "\n",
        "    print(\"Esperando mensajes...\")\n",
        "    try:\n",
        "        for message in pubsub.listen():\n",
        "            if message['type'] == 'message':\n",
        "                print(f\"Recibido: {message['data'].decode('utf-8')}\")\n",
        "    except KeyboardInterrupt:\n",
        "        print(\"\\nSuscripción detenida.\")\n",
        "    finally:\n",
        "        pubsub.close()\n",
        "        r.close()\n",
        "        print(\"Conexión a Redis cerrada.\")\n",
        "\n",
        "if __name__ == \"__main__\":\n",
        "    subscriber()\n",
        "\n",
        "\n"
      ]
    }
  ]
}