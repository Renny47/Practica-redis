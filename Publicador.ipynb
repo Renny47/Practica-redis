{
  "nbformat": 4,
  "nbformat_minor": 0,
  "metadata": {
    "colab": {
      "provenance": [],
      "authorship_tag": "ABX9TyPb6u59hM2RFGB8y+pGMKgK",
      "include_colab_link": true
    },
    "kernelspec": {
      "name": "python3",
      "display_name": "Python 3"
    },
    "language_info": {
      "name": "python"
    }
  },
  "cells": [
    {
      "cell_type": "markdown",
      "metadata": {
        "id": "view-in-github",
        "colab_type": "text"
      },
      "source": [
        "<a href=\"https://colab.research.google.com/github/Renny47/Practica-redis/blob/main/Publicador.ipynb\" target=\"_parent\"><img src=\"https://colab.research.google.com/assets/colab-badge.svg\" alt=\"Open In Colab\"/></a>"
      ]
    },
    {
      "cell_type": "code",
      "execution_count": 2,
      "metadata": {
        "colab": {
          "base_uri": "https://localhost:8080/"
        },
        "id": "SmANZubmYnCC",
        "outputId": "1ddeb4ba-ce6c-4f1a-dcd0-2d043eb227d8"
      },
      "outputs": [
        {
          "output_type": "stream",
          "name": "stdout",
          "text": [
            "Introduce un mensaje para publicar: HOLA\n",
            "Publicado: HOLA\n",
            "Introduce un mensaje para publicar: QUE TAL ??\n",
            "Publicado: QUE TAL ??\n",
            "\n",
            "Publicación detenida.\n",
            "Conexión a Redis cerrada.\n"
          ]
        }
      ],
      "source": [
        "#pip install redis\n",
        "\n",
        "\n",
        "\n",
        "import redis\n",
        "import time\n",
        "\n",
        "# Conexión a Redis\n",
        "r = redis.Redis(\n",
        "    host='redis-14636.c57.us-east-1-4.ec2.redns.redis-cloud.com',\n",
        "    port=14636,\n",
        "    password='qzzvuvV8wjwdHz9tC852AY5t0aAXApqr'\n",
        ")\n",
        "\n",
        "# Publicador\n",
        "def publisher():\n",
        "    try:\n",
        "        while True:\n",
        "            message = input(\"Introduce un mensaje para publicar: \")\n",
        "            r.publish('canal_prueba', message)\n",
        "            print(f\"Publicado: {message}\")\n",
        "    except KeyboardInterrupt:\n",
        "        print(\"\\nPublicación detenida.\")\n",
        "    finally:\n",
        "        r.close()\n",
        "        print(\"Conexión a Redis cerrada.\")\n",
        "\n",
        "if __name__ == \"__main__\":\n",
        "    publisher()\n",
        "\n",
        "\n"
      ]
    }
  ]
}